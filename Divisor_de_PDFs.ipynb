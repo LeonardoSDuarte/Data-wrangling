{
  "nbformat": 4,
  "nbformat_minor": 0,
  "metadata": {
    "colab": {
      "name": "Divisor de PDFs.ipynb",
      "provenance": [],
      "collapsed_sections": [],
      "authorship_tag": "ABX9TyNjvNAhWMh+bG5fm0NzH2PR",
      "include_colab_link": true
    },
    "kernelspec": {
      "name": "python3",
      "display_name": "Python 3"
    },
    "language_info": {
      "name": "python"
    }
  },
  "cells": [
    {
      "cell_type": "markdown",
      "metadata": {
        "id": "view-in-github",
        "colab_type": "text"
      },
      "source": [
        "<a href=\"https://colab.research.google.com/github/LeonardoSDuarte/Data-wrangling/blob/master/Divisor_de_PDFs.ipynb\" target=\"_parent\"><img src=\"https://colab.research.google.com/assets/colab-badge.svg\" alt=\"Open In Colab\"/></a>"
      ]
    },
    {
      "cell_type": "code",
      "metadata": {
        "id": "wCsWRKky550H",
        "colab": {
          "base_uri": "https://localhost:8080/"
        },
        "outputId": "f25798b8-1cbf-4aed-b076-8a65ad769b9c"
      },
      "source": [
        "#Instalação das bibliotecas que não são nativas no Google Colaboraatory\n",
        "!pip install PyPDF2\n",
        "!pip install pdfplumber\n",
        "\n",
        "#Importando as bibliotecas\n",
        "import os\n",
        "import pdfplumber\n",
        "from PyPDF2 import PdfFileWriter, PdfFileReader\n",
        "from google.colab import drive\n"
      ],
      "execution_count": 1,
      "outputs": [
        {
          "output_type": "stream",
          "text": [
            "Collecting PyPDF2\n",
            "\u001b[?25l  Downloading https://files.pythonhosted.org/packages/b4/01/68fcc0d43daf4c6bdbc6b33cc3f77bda531c86b174cac56ef0ffdb96faab/PyPDF2-1.26.0.tar.gz (77kB)\n",
            "\r\u001b[K     |████▎                           | 10kB 13.3MB/s eta 0:00:01\r\u001b[K     |████████▌                       | 20kB 18.8MB/s eta 0:00:01\r\u001b[K     |████████████▊                   | 30kB 10.7MB/s eta 0:00:01\r\u001b[K     |█████████████████               | 40kB 4.4MB/s eta 0:00:01\r\u001b[K     |█████████████████████▏          | 51kB 5.3MB/s eta 0:00:01\r\u001b[K     |█████████████████████████▍      | 61kB 6.3MB/s eta 0:00:01\r\u001b[K     |█████████████████████████████▋  | 71kB 5.8MB/s eta 0:00:01\r\u001b[K     |████████████████████████████████| 81kB 4.1MB/s \n",
            "\u001b[?25hBuilding wheels for collected packages: PyPDF2\n",
            "  Building wheel for PyPDF2 (setup.py) ... \u001b[?25l\u001b[?25hdone\n",
            "  Created wheel for PyPDF2: filename=PyPDF2-1.26.0-cp37-none-any.whl size=61085 sha256=9a6c7b18bed7ebd7bff25ada7b5fe81a575d329751a35e4d13bae4bd840fc8e4\n",
            "  Stored in directory: /root/.cache/pip/wheels/53/84/19/35bc977c8bf5f0c23a8a011aa958acd4da4bbd7a229315c1b7\n",
            "Successfully built PyPDF2\n",
            "Installing collected packages: PyPDF2\n",
            "Successfully installed PyPDF2-1.26.0\n",
            "Collecting pdfplumber\n",
            "\u001b[?25l  Downloading https://files.pythonhosted.org/packages/9d/30/528bba4a8a2dde7b7e89475a1f1d7b3ed342073a76b4e7248cdd8393f058/pdfplumber-0.5.28.tar.gz (45kB)\n",
            "\u001b[K     |████████████████████████████████| 51kB 3.0MB/s \n",
            "\u001b[?25hCollecting pdfminer.six==20200517\n",
            "\u001b[?25l  Downloading https://files.pythonhosted.org/packages/b0/c0/ef1c8758bbd86edb10b5443700aac97d0ba27a9ca2e7696db8cd1fdbd5a8/pdfminer.six-20200517-py3-none-any.whl (5.6MB)\n",
            "\u001b[K     |████████████████████████████████| 5.6MB 9.0MB/s \n",
            "\u001b[?25hRequirement already satisfied: Pillow>=7.0.0 in /usr/local/lib/python3.7/dist-packages (from pdfplumber) (7.1.2)\n",
            "Collecting Wand\n",
            "\u001b[?25l  Downloading https://files.pythonhosted.org/packages/d7/f6/05f043c099639b9017b7244791048a4d146dfea45b41a199aed373246d50/Wand-0.6.6-py2.py3-none-any.whl (138kB)\n",
            "\u001b[K     |████████████████████████████████| 143kB 47.7MB/s \n",
            "\u001b[?25hRequirement already satisfied: chardet; python_version > \"3.0\" in /usr/local/lib/python3.7/dist-packages (from pdfminer.six==20200517->pdfplumber) (3.0.4)\n",
            "Collecting pycryptodome\n",
            "\u001b[?25l  Downloading https://files.pythonhosted.org/packages/ad/16/9627ab0493894a11c68e46000dbcc82f578c8ff06bc2980dcd016aea9bd3/pycryptodome-3.10.1-cp35-abi3-manylinux2010_x86_64.whl (1.9MB)\n",
            "\u001b[K     |████████████████████████████████| 1.9MB 40.3MB/s \n",
            "\u001b[?25hRequirement already satisfied: sortedcontainers in /usr/local/lib/python3.7/dist-packages (from pdfminer.six==20200517->pdfplumber) (2.4.0)\n",
            "Building wheels for collected packages: pdfplumber\n",
            "  Building wheel for pdfplumber (setup.py) ... \u001b[?25l\u001b[?25hdone\n",
            "  Created wheel for pdfplumber: filename=pdfplumber-0.5.28-cp37-none-any.whl size=32222 sha256=83f88d52502bb43bbfdc2634039c855ba236656b54aa82eff31d7ed3bbc4ffa7\n",
            "  Stored in directory: /root/.cache/pip/wheels/5a/9b/3d/37e37d93650be964fdd2a9babf174214fec8a0f4d222d474ab\n",
            "Successfully built pdfplumber\n",
            "Installing collected packages: pycryptodome, pdfminer.six, Wand, pdfplumber\n",
            "Successfully installed Wand-0.6.6 pdfminer.six-20200517 pdfplumber-0.5.28 pycryptodome-3.10.1\n"
          ],
          "name": "stdout"
        }
      ]
    },
    {
      "cell_type": "code",
      "metadata": {
        "id": "FYNxjyCW6tft",
        "colab": {
          "base_uri": "https://localhost:8080/"
        },
        "outputId": "44efbaa1-00bf-4d50-ea51-19babd9b4a99"
      },
      "source": [
        "#Conectando o colab ao Google Drive\n",
        "drive.mount('/content/gdrive') "
      ],
      "execution_count": 2,
      "outputs": [
        {
          "output_type": "stream",
          "text": [
            "Mounted at /content/gdrive\n"
          ],
          "name": "stdout"
        }
      ]
    },
    {
      "cell_type": "code",
      "metadata": {
        "id": "Q6wsOfHWq6EY"
      },
      "source": [
        "def pdf_get_name (page, pdf_file):\n",
        "\n",
        "  '''  \n",
        "  page é o número da página\n",
        "  pdf_file é caminho até o arquivo original \n",
        "  ''' \n",
        "\n",
        "  #O método open retorna uma instância da classe pdfplumber.PDF.\n",
        "  pdf_content = pdfplumber.open(pdf_file)\n",
        "\n",
        "  #Seleciona a página.\n",
        "  pdf_page = pdf_content.pages[page]\n",
        "\n",
        "  #Extrai o texto dividido por quebras de linha  \n",
        "  pdf_text = pdf_page.extract_text().split('\\n')\n",
        "\n",
        "  #O nome que precisa ser extraído está na posição 4 da lista 'pdf_text'.\n",
        "  name = pdf_text[4]\n",
        "\n",
        "  #Limpa o nome extraído removendo alguns números. Para isso é passado um filtro com a função lambda que verifica caractere por caractere. \n",
        "  #Caso o caractere não esteja em '0123456789', ele é retonado dentro de uma lista.\n",
        "  name = list(filter(lambda c: c not in '0123456789', name))\n",
        "  \n",
        "  #O método join() une os caracteres em uma única string novamente. Em seguida, remove os espaços em excesso.\n",
        "  name = ''.join(name).strip()\n",
        "\n",
        "  ''' \n",
        "  #Tentativa de extração de texto com PyPDF2\n",
        "  with open (pdf_file) as pdf:\n",
        "    pdf_content = PdfFileReader(pdf_file)\n",
        "    pdf_text = pdf_content.getPage(page).extractText()\n",
        "    name = pdf_text\n",
        "  '''\n",
        "\n",
        "  return name\n",
        "  \n",
        "\n",
        "def pdf_sep (pdf_file, out_dir):\n",
        "  '''\n",
        "  pdf_file é o caminho do pdf orinal\n",
        "  out_dir é a pasta onde os pdfs divididos serão salvos\n",
        "  '''\n",
        "  #Abre o pdf original no modo de leitura\n",
        "  with open(pdf_file, 'rb') as pdf:\n",
        "\n",
        "    #Cria um objeto da classe PdfFileReader para leitura\n",
        "    pdf_content = PdfFileReader(pdf_file)\n",
        "\n",
        "    #Armazena o quantidade de páginas do pdf original\n",
        "    num_pages = pdf_content.getNumPages()\n",
        "    \n",
        "    #Faz uma iteração para cada uma das páginas\n",
        "    for page in range(num_pages):\n",
        "      \n",
        "      #Objeto da classe PdfFileWriter para escrita\n",
        "      pdf_writer = PdfFileWriter()\n",
        "\n",
        "      #Adiciona a página da iteração atual ao objeto para escrita do PDF\n",
        "      pdf_writer.addPage(pdf_content.getPage(page))\n",
        "\n",
        "      #Invoca a função pdf_get_name para extrair o nome contido na página atual\n",
        "      pdf_name = pdf_get_name(page,pdf_file)\n",
        "      \n",
        "      #O médoto os.path.join() une o caminho para gravação, o nome e a extesão do arquivo pdf. \n",
        "      pdf_out = os.path.join(out_dir, pdf_name +'.pdf')\n",
        "\n",
        "      #Grava o objeto de escrita no arquivo\n",
        "      with open(pdf_out, 'wb') as pdf_named:\n",
        "        pdf_writer.write(pdf_named)\n",
        "      \n",
        "      #print(pdf_name)\n",
        "      #print(pdf_writer.getNumPages())"
      ],
      "execution_count": 17,
      "outputs": []
    },
    {
      "cell_type": "code",
      "metadata": {
        "id": "rRiwBMZTO77l"
      },
      "source": [
        "#Caminho para o arquivo original\n",
        "pdf_file = '/content/gdrive/MyDrive/Colab Notebooks/Divisor de PDFs/Recibo de Pagamento RENOVA 2.pdf'\n",
        "\n",
        "#Pasta onde os PDFs serão salvos\n",
        "out_dir = '/content/gdrive/MyDrive/Colab Notebooks/Divisor de PDFs/Abril 21'\n",
        "\n",
        "#Invoca a função separador\n",
        "pdf_sep(pdf_file,out_dir)\n"
      ],
      "execution_count": null,
      "outputs": []
    }
  ]
}